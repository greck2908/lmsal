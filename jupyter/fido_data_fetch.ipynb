{
 "cells": [
  {
   "cell_type": "code",
   "execution_count": 53,
   "metadata": {},
   "outputs": [],
   "source": [
    "from sunpy.net import Fido, attrs as a\n",
    "import astropy.units as u"
   ]
  },
  {
   "cell_type": "code",
   "execution_count": 54,
   "metadata": {},
   "outputs": [],
   "source": [
    "#implement time option using the \"T\" keyword in a.Time\n",
    "#implement wavelength option\n",
    "#find a way to view partial disk, not full disk (full disk not that useful)\n",
    "search = Fido.search(a.Time(\"2018/04/05T01:00:00\", \"2018/04/05T01:01:00\"), a.Instrument(\"aia\"), a.Wavelength(94. * u.angstrom))"
   ]
  },
  {
   "cell_type": "code",
   "execution_count": 55,
   "metadata": {},
   "outputs": [
    {
     "name": "stdout",
     "output_type": "stream",
     "text": [
      "Results from 1 Provider:\n",
      "\n",
      "5 Results from the VSOClient:\n",
      "   Start Time [1]       End Time [1]    Source ...   Type   Wavelength [2]\n",
      "                                               ...             Angstrom   \n",
      "       str19               str19         str3  ...   str8      float64    \n",
      "------------------- ------------------- ------ ... -------- --------------\n",
      "2018-04-05 01:00:11 2018-04-05 01:00:12    SDO ... FULLDISK   94.0 .. 94.0\n",
      "2018-04-05 01:00:23 2018-04-05 01:00:24    SDO ... FULLDISK   94.0 .. 94.0\n",
      "2018-04-05 01:00:35 2018-04-05 01:00:36    SDO ... FULLDISK   94.0 .. 94.0\n",
      "2018-04-05 01:00:47 2018-04-05 01:00:48    SDO ... FULLDISK   94.0 .. 94.0\n",
      "2018-04-05 01:00:59 2018-04-05 01:01:00    SDO ... FULLDISK   94.0 .. 94.0\n",
      "\n",
      "\n"
     ]
    }
   ],
   "source": [
    "print(search)"
   ]
  },
  {
   "cell_type": "code",
   "execution_count": 56,
   "metadata": {},
   "outputs": [
    {
     "data": {
      "text/plain": [
       "5"
      ]
     },
     "execution_count": 56,
     "metadata": {},
     "output_type": "execute_result"
    }
   ],
   "source": [
    "len(result)"
   ]
  },
  {
   "cell_type": "code",
   "execution_count": 57,
   "metadata": {},
   "outputs": [
    {
     "name": "stdout",
     "output_type": "stream",
     "text": [
      "[                                        ========================================\n"
     ]
    },
    {
     "data": {
      "text/plain": [
       "['/Users/LMSAL/Downloads/aia_lev1_94a_2018_04_05t01_00_11_11z_image_lev1.fits',\n",
       " '/Users/LMSAL/Downloads/aia_lev1_94a_2018_04_05t01_00_23_12z_image_lev1.fits',\n",
       " '/Users/LMSAL/Downloads/aia_lev1_94a_2018_04_05t01_00_35_12z_image_lev1.fits',\n",
       " '/Users/LMSAL/Downloads/aia_lev1_94a_2018_04_05t01_00_47_11z_image_lev1.fits',\n",
       " '/Users/LMSAL/Downloads/aia_lev1_94a_2018_04_05t01_00_59_12z_image_lev1.fits']"
      ]
     },
     "execution_count": 57,
     "metadata": {},
     "output_type": "execute_result"
    }
   ],
   "source": [
    "Fido.fetch(search, path=\"/Users/LMSAL/Downloads\")"
   ]
  },
  {
   "cell_type": "code",
   "execution_count": null,
   "metadata": {},
   "outputs": [],
   "source": []
  }
 ],
 "metadata": {
  "kernelspec": {
   "display_name": "Python 2",
   "language": "python",
   "name": "python2"
  },
  "language_info": {
   "codemirror_mode": {
    "name": "ipython",
    "version": 2
   },
   "file_extension": ".py",
   "mimetype": "text/x-python",
   "name": "python",
   "nbconvert_exporter": "python",
   "pygments_lexer": "ipython2",
   "version": "2.7.15"
  }
 },
 "nbformat": 4,
 "nbformat_minor": 2
}
